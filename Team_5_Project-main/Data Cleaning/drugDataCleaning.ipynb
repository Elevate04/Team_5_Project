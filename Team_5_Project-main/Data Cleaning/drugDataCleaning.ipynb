{
 "cells": [
  {
   "cell_type": "code",
   "execution_count": null,
   "id": "bc07fa12",
   "metadata": {},
   "outputs": [],
   "source": [
    "import pandas as pd\n",
    "from pathlib import Path\n",
    "import scipy.stats as st\n",
    "import numpy as np\n",
    "import matplotlib.pyplot as plt\n",
    "import matplotlib.colors as clr\n",
    "import requests\n",
    "import time\n",
    "from scipy.stats import linregress\n",
    "from pprint import pprint\n",
    "from citipy import citipy\n",
    "import hvplot.pandas\n",
    "from api_keys_mm import weather_api_key\n",
    "from api_keys_mm import geoapify_key\n",
    "import os"
   ]
  },
  {
   "cell_type": "code",
   "execution_count": null,
   "id": "7371de6a",
   "metadata": {},
   "outputs": [],
   "source": [
    "drugDataDF = pd.read_csv((\"drug_deaths.csv\"))\n",
    "pd.set_option('display.max_columns', None)\n",
    "drugDataDF.head()"
   ]
  },
  {
   "cell_type": "code",
   "execution_count": null,
   "id": "040e537a",
   "metadata": {
    "scrolled": true
   },
   "outputs": [],
   "source": [
    "drugColDF = drugDataDF[['ID', 'Date', 'DateType', 'Age', 'Sex', 'Race',\n",
    "       'ResidenceCity', 'ResidenceCounty', 'ResidenceState', 'DeathCity',\n",
    "       'InjuryState', 'Heroin', 'Cocaine', 'Fentanyl', 'Fentanyl_Analogue',\n",
    "       'Oxycodone', 'Oxymorphone', 'Ethanol', 'Hydrocodone', 'Benzodiazepine',\n",
    "       'Methadone', 'Amphet', 'Tramad', 'Morphine_NotHeroin', 'Hydromorphone',\n",
    "       'Other', 'OpiateNOS', 'AnyOpioid', 'DeathCityGeo']]\n",
    "drugColDF.head()"
   ]
  },
  {
   "cell_type": "code",
   "execution_count": null,
   "id": "db3b2a6b",
   "metadata": {
    "scrolled": false
   },
   "outputs": [],
   "source": [
    "drugLocDF = drugColDF.loc[drugColDF[\"ResidenceState\"] == \"CT\"]\n",
    "drugLocDF = drugLocDF.loc[drugColDF[\"Sex\"] != \"Unknown\"]\n",
    "drugLocDF = drugLocDF.loc[drugColDF[\"Race\"] != \"Unknown\"]\n",
    "\n",
    "drugLocDF[\"Fentanyl\"] = drugLocDF[\"Fentanyl\"].replace(\"1-A\",\"1\")\n",
    "drugLocDF[\"Morphine_NotHeroin\"] = drugLocDF[\"Morphine_NotHeroin\"].replace([\"1ES\",\"STOLE MEDS\", \"NO RX BUT STRAWS\",\"PCP NEG\"],0)\n",
    "drugLocDF[\"Morphine_NotHeroin\"] = drugLocDF[\"Morphine_NotHeroin\"].astype(int)\n",
    "drugLocDF[\"Fentanyl_Analogue\"] = drugLocDF[\"Fentanyl_Analogue\"].astype(int)\n",
    "drugLocDF[\"Fentanyl\"] = drugLocDF[\"Fentanyl\"].astype(int)\n",
    "\n",
    "\n",
    "drugLocDF.head()"
   ]
  },
  {
   "cell_type": "code",
   "execution_count": null,
   "id": "96cde46e",
   "metadata": {},
   "outputs": [],
   "source": [
    "drugLocDF.to_csv(\"drug_deaths_clean.csv\")"
   ]
  },
  {
   "cell_type": "code",
   "execution_count": null,
   "id": "73072200",
   "metadata": {},
   "outputs": [],
   "source": [
    "Heroin = drugLocDF[\"Heroin\"].sum()\n",
    "Cocaine = drugLocDF[\"Cocaine\"].sum()\n",
    "Fentanyl = drugLocDF[\"Fentanyl\"].sum()\n",
    "Fentanyl_Analogue = drugLocDF[\"Fentanyl_Analogue\"].sum()\n",
    "Oxycodone = drugLocDF[\"Oxycodone\"].sum()\n",
    "Oxymorphone = drugLocDF[\"Oxymorphone\"].sum()\n",
    "Ethanol = drugLocDF[\"Ethanol\"].sum()\n",
    "Hydrocodone = drugLocDF[\"Hydrocodone\"].sum()\n",
    "Benzodiazepine = drugLocDF[\"Benzodiazepine\"].sum()\n",
    "Methadone = drugLocDF[\"Methadone\"].sum()\n",
    "Amphet = drugLocDF[\"Amphet\"].sum()\n",
    "Tramad = drugLocDF[\"Tramad\"].sum()\n",
    "Morphine_NotHeroin = drugLocDF[\"Morphine_NotHeroin\"].sum()\n",
    "Hydromorphone = drugLocDF[\"Hydromorphone\"].sum()\n",
    "OpiateNOS = drugLocDF[\"OpiateNOS\"].sum()\n",
    "\n",
    "\n",
    "\n",
    "drug_stats = pd.DataFrame({\"Heroin\":[Heroin],\n",
    "                          \"Cocaine\":[Cocaine],\n",
    "                          \"Fentanyl\":[Fentanyl],\n",
    "                          \"Oxycodone\":[Oxycodone],\n",
    "                          \"Oxymorphone\":[Oxymorphone],\n",
    "                          \"Ethanol\":[Ethanol],\n",
    "                          \"Hydrocodone\":[Hydrocodone],\n",
    "                          \"Benzodiazepine\":[Benzodiazepine],\n",
    "                          \"Methadone\":[Methadone],\n",
    "                          \"Amphet\":[Amphet],\n",
    "                          \"Tramad\":[Tramad],\n",
    "                          \"Morphine\":[Morphine_NotHeroin],\n",
    "                          \"Hydromorphone\":[Hydromorphone],\n",
    "                          \"OpiateNOS\":[OpiateNOS],\n",
    "                         })\n",
    "drug_stats"
   ]
  },
  {
   "cell_type": "code",
   "execution_count": null,
   "id": "07a5cb52",
   "metadata": {
    "scrolled": false
   },
   "outputs": [],
   "source": [
    "\n",
    "plot_pandas = drug_stats.plot(kind=\"bar\", linewidth=1, figsize=(16, 10)) \n",
    "plt.xlabel(\"Drugs\", fontsize = 25)\n",
    "plt.ylabel(\"Death Toll Count\", fontsize = 25)\n",
    "plt.title(\"Death Total Across CT\", fontsize = 35)\n",
    "\n",
    "plt.savefig(\"Images/DeathTotalBarGraph.png\")\n",
    "\n",
    "plt.show()"
   ]
  },
  {
   "cell_type": "code",
   "execution_count": null,
   "id": "c0466090",
   "metadata": {},
   "outputs": [],
   "source": [
    "# import drug_death_clean.csv \n",
    "drug1DF = pd.read_csv((\"../Data Cleaning/drug_deaths_clean.csv\"))\n",
    "pd.set_option('display.max_columns', None)\n",
    "drugDF = drug1DF[['ID', 'Date', 'DateType', 'Age', 'Sex', 'Race',\n",
    "       'ResidenceCity', 'ResidenceCounty', 'ResidenceState', 'DeathCity',\n",
    "       'InjuryState', 'Heroin', 'Cocaine', 'Fentanyl', 'Fentanyl_Analogue',\n",
    "       'Oxycodone', 'Oxymorphone', 'Ethanol', 'Hydrocodone', 'Benzodiazepine',\n",
    "       'Methadone', 'Amphet', 'Tramad', 'Morphine_NotHeroin', 'Hydromorphone',\n",
    "       'Other', 'OpiateNOS', 'AnyOpioid', 'DeathCityGeo']]\n",
    "drugDF.head()"
   ]
  },
  {
   "cell_type": "code",
   "execution_count": null,
   "id": "29bd17a9",
   "metadata": {},
   "outputs": [],
   "source": [
    "# break dates down into lists\n",
    "dates = []\n",
    "year = []\n",
    "month = []\n",
    "day = []\n",
    "\n",
    "for x in range(len(drugDF.index)):\n",
    "    dates.append(drugDF['Date'][x].split()[0])\n",
    "    year.append(drugDF['Date'][x].split()[0].split('/')[2])\n",
    "    month.append(drugDF['Date'][x].split()[0].split('/')[0])\n",
    "    day.append(drugDF['Date'][x].split()[0].split('/')[1])\n",
    "    #print(f'{month[x]} {day[x]} {year[x]} | {dates[x]}')"
   ]
  },
  {
   "cell_type": "code",
   "execution_count": null,
   "id": "cfdf7e79",
   "metadata": {},
   "outputs": [],
   "source": [
    "# create a data frame for new date variables\n",
    "dateDF = pd.DataFrame({'Date':dates,\n",
    "                       'Month':month,\n",
    "                       'Day':day,\n",
    "                       'Year':year,\n",
    "                       'Season':''})\n",
    "dateDF"
   ]
  },
  {
   "cell_type": "code",
   "execution_count": null,
   "id": "e0430a20",
   "metadata": {},
   "outputs": [],
   "source": [
    "# assign seasons to date dataframe\n",
    "for x in range(len(dateDF.index)):\n",
    "    if dateDF['Month'][x] == '03' or dateDF['Month'][x] == '04' or dateDF['Month'][x] == '05':\n",
    "        dateDF['Season'][x] = 'Spring'\n",
    "    elif dateDF['Month'][x] == '06' or dateDF['Month'][x] == '07' or dateDF['Month'][x] == '08':\n",
    "        dateDF['Season'][x] = 'Summer'\n",
    "    elif dateDF['Month'][x] == '09' or dateDF['Month'][x] == '10' or dateDF['Month'][x] == '11':\n",
    "        dateDF['Season'][x] = 'Autumn'\n",
    "    elif dateDF['Month'][x] == '12' or dateDF['Month'][x] == '01' or dateDF['Month'][x] == '02':\n",
    "        dateDF['Season'][x] = 'Winter'\n",
    "    else:\n",
    "        dateDF['Season'][x] = 'N/A'\n",
    "dateDF"
   ]
  },
  {
   "cell_type": "code",
   "execution_count": null,
   "id": "d45e41ee",
   "metadata": {},
   "outputs": [],
   "source": [
    "# create dataframe for each season\n",
    "SpringDF = dateDF.loc[dateDF['Season'] == 'Spring']\n",
    "SummerDF = dateDF.loc[dateDF['Season'] == 'Summer']\n",
    "AutumnDF = dateDF.loc[dateDF['Season'] == 'Autumn']\n",
    "WinterDF = dateDF.loc[dateDF['Season'] == 'Winter']"
   ]
  },
  {
   "cell_type": "code",
   "execution_count": null,
   "id": "3f7624e1",
   "metadata": {},
   "outputs": [],
   "source": [
    "SpringDF['Year'] = pd.to_numeric(SpringDF['Year'])\n",
    "SummerDF['Year'] = pd.to_numeric(SummerDF['Year'])\n",
    "AutumnDF['Year'] = pd.to_numeric(AutumnDF['Year'])\n",
    "WinterDF['Year'] = pd.to_numeric(WinterDF['Year'])\n",
    "SpringDF.sort_values(by=['Year'])\n",
    "SummerDF.sort_values(by=['Year'])\n",
    "AutumnDF.sort_values(by=['Year'])\n",
    "WinterDF.sort_values(by=['Year'])"
   ]
  },
  {
   "cell_type": "code",
   "execution_count": null,
   "id": "35700496",
   "metadata": {
    "scrolled": true
   },
   "outputs": [],
   "source": [
    "#assign color values\n",
    "purple = clr.to_rgba('darkorchid', alpha=0.53)\n",
    "lBlue = clr.to_rgba('deepskyblue', alpha=0.73)\n",
    "dBlue = clr.to_rgba('mediumblue', alpha=0.75)\n",
    "gold = clr.to_rgba('goldenrod', alpha=0.9)\n",
    "colors = [purple, lBlue, gold, dBlue]\n",
    "x = np.arange(2014.5,2019,1)\n",
    "\n",
    "#plot and label histogram\n",
    "plt.figure(figsize=(6.5,5.5))\n",
    "plt.hist([SpringDF['Year'], SummerDF['Year'], AutumnDF['Year'], WinterDF['Year']],\n",
    "         label=['Spring', 'Summer', 'Autumn', 'Winter'], color = colors,bins = x)\n",
    "\n",
    "plt.xticks([2015, 2016, 2017, 2018])\n",
    "plt.ylim(-0, 300)\n",
    "plt.title(\"Drug Deaths in each Season Per Year in Connecticut\")\n",
    "plt.xlabel(\"Seasons by Year\")\n",
    "plt.ylabel(\"Drug Deaths\")\n",
    "plt.legend(loc=\"upper left\")\n",
    "plt.savefig(\"Images/SeasonsHistogram.png\")"
   ]
  },
  {
   "cell_type": "code",
   "execution_count": null,
   "id": "05380cd1",
   "metadata": {},
   "outputs": [],
   "source": []
  },
  {
   "cell_type": "code",
   "execution_count": null,
   "id": "116fef16",
   "metadata": {},
   "outputs": [],
   "source": [
    "#create new DF with the count of each category\n",
    "Death_by_race_count =drugLocDF[\"Race\"].value_counts()\n",
    "Death_by_race_count"
   ]
  },
  {
   "cell_type": "code",
   "execution_count": null,
   "id": "c1a6820f",
   "metadata": {},
   "outputs": [],
   "source": [
    "#Create Race DF\n",
    "#Set index and rename column value \n",
    "Death_by_race_count = drugLocDF[\"Race\"].value_counts().rename_axis(\"sub_race_values\").reset_index(name='counts')\n",
    "Death_by_race_count"
   ]
  },
  {
   "cell_type": "code",
   "execution_count": null,
   "id": "57485fac",
   "metadata": {},
   "outputs": [],
   "source": [
    "#Combined_other_race = race_df.replace(Asian Indian, np.Other, inplace = True)\n",
    "Combined_other_race_df= Death_by_race_count\n",
    "Combined_other_race_df['sub_race_values'] = Combined_other_race_df['sub_race_values'].replace(['Asian Indian','Asian, Other','Other','Chinese','Hawaiian','Hispanic, Black','Hispanic, White' ],['Asian and Some Other','Asian and Some Other','Asian and Some Other','Asian and Some Other','Asian and Some Other','Hispanic','Hispanic'])\n",
    "combined_race_df = Combined_other_race_df.groupby('sub_race_values',as_index = False).agg('sum')\n",
    "\n",
    "#df.reset.index(as_index = False).groupby(as_index = False).sum()\n",
    "print(combined_race_df)\n",
    "combined_race_df"
   ]
  },
  {
   "cell_type": "code",
   "execution_count": null,
   "id": "c3f049e6",
   "metadata": {},
   "outputs": [],
   "source": [
    "#taking the total of counts column to get the value out of the percentage\n",
    "total_death_counts = combined_race_df.counts.sum()\n",
    "total_death_counts"
   ]
  },
  {
   "cell_type": "code",
   "execution_count": null,
   "id": "9d1245e6",
   "metadata": {},
   "outputs": [],
   "source": [
    "# to add the values along with percentage we have to do reverse calculations using a function\n",
    "#\n",
    "def my_autopct_function(prct_value):\n",
    "    (prct_value)\n",
    "    return'{:.0f}%\\n{:.0f} deaths'.format(prct_value, total_death_counts*prct_value/100)"
   ]
  },
  {
   "cell_type": "code",
   "execution_count": null,
   "id": "c62c4872",
   "metadata": {},
   "outputs": [],
   "source": [
    "#set labels and values to display in pie chart\n",
    "labels = combined_race_df.sub_race_values\n",
    "values = combined_race_df.counts\n",
    "explode = [0.1,0,0.1,0.1,] # explode is = to the number of  index from the count of the key value\n"
   ]
  },
  {
   "cell_type": "code",
   "execution_count": null,
   "id": "0323f76f",
   "metadata": {},
   "outputs": [],
   "source": [
    "#visualize the pie chart\n",
    "fig = plt.figure()\n",
    "ax =fig.add_axes([0,0,2,2])\n",
    "ax.axis('equal')\n",
    "ax.pie(values, autopct = my_autopct_function, explode = explode,\n",
    "       textprops={'fontsize':11, 'weight': 'bold', 'color': 'white'},\n",
    "       wedgeprops = {'edgecolor': 'black'},shadow=True)\n",
    "plt.title(f\" Drug related deaths in Connecticut by Race\\n\\nTotal Deaths (2015-2018): {total_death_counts}\")\n",
    "plt.legend(labels, title = \"Legend\", loc=\"best\")\n",
    "plt.savefig(\"Images/racechart.png\", bbox_inches = 'tight')\n",
    "plt.show()\n",
    "#autopct function returns List of strings used to Label the wedge with their numerical value\n",
    "#explode - List the margin in the sequence of data \n"
   ]
  },
  {
   "cell_type": "code",
   "execution_count": null,
   "id": "0d263295",
   "metadata": {},
   "outputs": [],
   "source": []
  },
  {
   "cell_type": "code",
   "execution_count": null,
   "id": "2970b08c",
   "metadata": {},
   "outputs": [],
   "source": [
    "#read cleaned data from CSV file in folder\n",
    "clean_data = pd.read_csv((\"drug_deaths_clean.csv\"))\n",
    "pd.set_option('display.max_columns', None)\n",
    "clean_data.info()\n",
    "clean_data.head()"
   ]
  },
  {
   "cell_type": "code",
   "execution_count": null,
   "id": "281df71b",
   "metadata": {},
   "outputs": [],
   "source": [
    "#I noticed in code below when I tried to combine drug types, Fentanyl column is a string. See output below for why\n",
    "#Turns out several drug types are strings. See df.info() above for which ones\n",
    "print(clean_data[\"Fentanyl\"].value_counts())\n",
    "clean_data[\"Morphine_NotHeroin\"].value_counts()"
   ]
  },
  {
   "cell_type": "code",
   "execution_count": null,
   "id": "bee8c346",
   "metadata": {},
   "outputs": [],
   "source": [
    "#replace weird value with 1 so I cann add columns together\n",
    "clean_data[\"Fentanyl\"] = clean_data[\"Fentanyl\"].replace([\"1-A\", \" \"],\"1\")\n",
    "clean_data[\"Morphine_NotHeroin\"] = clean_data[\"Morphine_NotHeroin\"].replace([\"1ES\",\"STOLE MEDS\", \" \", \"NO RX BUT STRAWS\",\"PCP NEG\"],0)\n",
    "\n",
    "\n",
    "clean_data[\"Fentanyl\"].value_counts()\n",
    "clean_data[\"Morphine_NotHeroin\"].value_counts()"
   ]
  },
  {
   "cell_type": "code",
   "execution_count": null,
   "id": "c6c4e346",
   "metadata": {},
   "outputs": [],
   "source": [
    "#reformat all changed string columns as integers\n",
    "clean_data[\"Fentanyl\"] = clean_data[\"Fentanyl\"].astype(int)\n",
    "clean_data[\"Morphine_NotHeroin\"] = clean_data[\"Morphine_NotHeroin\"].astype(int)\n",
    "clean_data[\"Fentanyl_Analogue\"] = clean_data[\"Fentanyl_Analogue\"].astype(int)\n",
    "clean_data.head()"
   ]
  },
  {
   "cell_type": "code",
   "execution_count": null,
   "id": "c088ed99",
   "metadata": {},
   "outputs": [],
   "source": [
    "clean_data[\"Total Drug Deaths\"] = clean_data[\"Heroin\"] + clean_data[\"Cocaine\"] + clean_data[\"Fentanyl\"] + clean_data[\"Fentanyl_Analogue\"] + clean_data[\"Oxycodone\"] + clean_data[\"Oxymorphone\"] + clean_data[\"Ethanol\"] + clean_data[\"Hydrocodone\"] + clean_data[\"Benzodiazepine\"] + clean_data[\"Methadone\"] + clean_data[\"Amphet\"] + clean_data[\"Tramad\"] + clean_data[\"Morphine_NotHeroin\"]\n",
    "clean_data.head()"
   ]
  },
  {
   "cell_type": "code",
   "execution_count": null,
   "id": "6903ff42",
   "metadata": {},
   "outputs": [],
   "source": [
    "#Use weather API to extract latitude and longitude data for each city to use for HVPLOT\n",
    "#test weather API call for 1 city to make sure it works\n",
    "\n",
    "# Set the API base URL\n",
    "base_url = \"http://api.openweathermap.org/data/2.5/weather?\"\n",
    "\n",
    "\n",
    "# Create endpoint URL with each city, testing it with 2nd city in list\n",
    "city_url = base_url + \"appid=\" + weather_api_key + \"&q=\" + \"Middletown\"\n",
    "response = requests.get(city_url).json()\n",
    "pprint(response)"
   ]
  },
  {
   "cell_type": "code",
   "execution_count": null,
   "id": "226b74ed",
   "metadata": {},
   "outputs": [],
   "source": [
    "#Grouping by city to condense rows and make for loop below go much faster. 3425 rows -> 207 rows\n",
    "groupby_city = clean_data.groupby([\"DeathCity\"]).sum()\n"
   ]
  },
  {
   "cell_type": "code",
   "execution_count": null,
   "id": "1f095944",
   "metadata": {},
   "outputs": [],
   "source": [
    "#use for loop to loop through cities and extract latitude and longitude for each city\n",
    "\n",
    "#define empty list to append lat and lng data into\n",
    "lat = []\n",
    "lng = []\n",
    "\n",
    "#loop through city list and extract lat and lng for each city, and append them to their respective list. groupby_city.index is the city name\n",
    "for city in groupby_city.index:\n",
    "    print(city)\n",
    "    \n",
    "    #define base URL\n",
    "    base_url = \"http://api.openweathermap.org/data/2.5/weather?\"\n",
    "\n",
    "\n",
    "    # Create endpoint URL with each city, testing it with 2nd city in list\n",
    "    city_url = base_url + \"appid=\" + weather_api_key + \"&q=\" + city\n",
    "    response = requests.get(city_url).json()\n",
    "    \n",
    "    #need try/except statment if not lat/lng data is available.\n",
    "    try:\n",
    "        lat.append(response[\"coord\"][\"lat\"])\n",
    "        lng.append(response[\"coord\"][\"lon\"])\n",
    "        \n",
    "    #need to fill in null value in lat & lng lists if no data is there because the list length has to be the same as DF length to add the lists to the DF\n",
    "    except:\n",
    "        print(\"No coordinates available\")\n",
    "        #lat.append(np.nan) #putting in null values stops plot from running. Put in 0 and filter them out later\n",
    "        lat.append(0)\n",
    "        lng.append(0)\n",
    "\n",
    "groupby_city[\"Latitude\"] = lat\n",
    "groupby_city[\"Longitude\"] = lng\n",
    "groupby_city"
   ]
  },
  {
   "cell_type": "code",
   "execution_count": null,
   "id": "c7172a52",
   "metadata": {},
   "outputs": [],
   "source": [
    "# Configure the map plot\n",
    "map1 = groupby_city.hvplot.points(\"Longitude\",\"Latitude\", geo=True, tiles=\"OSM\", \n",
    "                                  frame_width = 700, frame_height = 500,\n",
    "                                  size = \"Total Drug Deaths\")\n",
    "map1"
   ]
  },
  {
   "cell_type": "code",
   "execution_count": null,
   "id": "aa59fd45",
   "metadata": {},
   "outputs": [],
   "source": [
    "#filter out areas that are not Connecticut.\n",
    "groupby_city[\"Total Drug Deaths\"].sum() #there are 7857 total deaths. Use as reference to see how many are cut out\n",
    "\n",
    "#filter out cities outside this region. Weather.py picked up some cities with the same name in another part of the world\n",
    "groupby_city_filtered = groupby_city.loc[(groupby_city[\"Latitude\"]>40) & \n",
    "                                         (groupby_city[\"Latitude\"]<43) & \n",
    "                                         (groupby_city[\"Longitude\"]>-80)]\n",
    "\n",
    "groupby_city_filtered[\"Total Drug Deaths\"].sum() #narrowed it from 7857 cities down to 6080 cities\n",
    "groupby_city_filtered.reset_index()"
   ]
  },
  {
   "cell_type": "code",
   "execution_count": null,
   "id": "92e5621b",
   "metadata": {},
   "outputs": [],
   "source": [
    "#need to copy death city column to color points by city and lebel them because DeathCity is the index and I can't figure out how to color by index\n",
    "groupby_city_filtered[\"DeathCity\"] = groupby_city_filtered.index"
   ]
  },
  {
   "cell_type": "code",
   "execution_count": null,
   "id": "239cf3e3",
   "metadata": {},
   "outputs": [],
   "source": [
    "map2 = groupby_city_filtered.hvplot.points(\"Longitude\",\"Latitude\", geo=True, tiles=\"OSM\", \n",
    "                                  frame_width = 700, frame_height = 500,\n",
    "                                  size = \"Total Drug Deaths\", \n",
    "                                  color = \"DeathCity\")\n",
    "map2"
   ]
  },
  {
   "cell_type": "code",
   "execution_count": null,
   "id": "4804eb21",
   "metadata": {},
   "outputs": [],
   "source": []
  },
  {
   "cell_type": "code",
   "execution_count": null,
   "id": "5289b8e9",
   "metadata": {},
   "outputs": [],
   "source": [
    "colors=['green', 'red']\n",
    "explode = (0.1, 0)\n",
    "gender_data = drugLocDF[\"Sex\"].value_counts()\n",
    "plt.title(\"Female vs. Male\")\n",
    "gender_data.plot.pie(colors=colors, autopct=\"%1.1f%%\", explode=explode, shadow=True, startangle=100)\n",
    "plt.axis(\"equal\")\n",
    "plt.savefig(\"Images/FemaleVsMalePie.png\")\n",
    "plt.show()"
   ]
  },
  {
   "cell_type": "code",
   "execution_count": null,
   "id": "079efa32",
   "metadata": {},
   "outputs": [],
   "source": []
  },
  {
   "cell_type": "code",
   "execution_count": null,
   "id": "c5c7e7c5",
   "metadata": {},
   "outputs": [],
   "source": [
    "#read drug overdose data in \n",
    "drug_deaths = pd.read_csv((\"drug_deaths_clean.csv\"))\n",
    "drug_deaths = drug_deaths.loc[(drug_deaths[\"Fentanyl\"] != \" \")]\n",
    "drug_deaths[\"Fentanyl\"] = drug_deaths[\"Fentanyl\"].replace([\"1-A\"],\"1\")\n",
    "\n",
    "print(drug_deaths.shape)\n",
    "print(drug_deaths.columns)\n",
    "drug_deaths.head()"
   ]
  },
  {
   "cell_type": "code",
   "execution_count": null,
   "id": "c99e9a44",
   "metadata": {},
   "outputs": [],
   "source": [
    "fent_cols = [\"Age\", \"Fentanyl\", \"Fentanyl_Analogue\"]\n",
    "drug_deaths[fent_cols].head()"
   ]
  },
  {
   "cell_type": "code",
   "execution_count": null,
   "id": "01ab4e7e",
   "metadata": {},
   "outputs": [],
   "source": [
    "drug_deaths[\"Fentanyl\"].value_counts()"
   ]
  },
  {
   "cell_type": "code",
   "execution_count": null,
   "id": "3043d705",
   "metadata": {},
   "outputs": [],
   "source": [
    "age_df = drug_deaths.groupby(\"Age\").count()\n",
    "age_df[\"Age\"] = age_df.index"
   ]
  },
  {
   "cell_type": "code",
   "execution_count": null,
   "id": "80c46031",
   "metadata": {},
   "outputs": [],
   "source": [
    "age_df.plot(kind=\"scatter\", x=\"Age\", y=\"Fentanyl\", color=\"blue\")\n",
    "plt.title(\"Age vs. Fentanyl Overdoses\")\n",
    "\n",
    "plt.savefig(\"Images/AgeVsFentanyl.png\")"
   ]
  },
  {
   "cell_type": "code",
   "execution_count": null,
   "id": "228e3064",
   "metadata": {},
   "outputs": [],
   "source": []
  }
 ],
 "metadata": {
  "kernelspec": {
   "display_name": "Python 3 (ipykernel)",
   "language": "python",
   "name": "python3"
  },
  "language_info": {
   "codemirror_mode": {
    "name": "ipython",
    "version": 3
   },
   "file_extension": ".py",
   "mimetype": "text/x-python",
   "name": "python",
   "nbconvert_exporter": "python",
   "pygments_lexer": "ipython3",
   "version": "3.10.9"
  }
 },
 "nbformat": 4,
 "nbformat_minor": 5
}
